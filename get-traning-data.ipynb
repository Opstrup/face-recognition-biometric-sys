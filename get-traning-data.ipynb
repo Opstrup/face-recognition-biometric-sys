{
 "cells": [
  {
   "cell_type": "code",
   "execution_count": 1,
   "metadata": {
    "collapsed": false
   },
   "outputs": [],
   "source": [
    "import urllib2\n",
    "import urllib\n",
    "import os"
   ]
  },
  {
   "cell_type": "code",
   "execution_count": 6,
   "metadata": {
    "collapsed": true
   },
   "outputs": [],
   "source": [
    "# pull traning data of unknown faces from image-net\n",
    "def store_raw_images():\n",
    "    # unknown faces from image-net\n",
    "    #images_link = 'http://www.image-net.org/api/text/imagenet.synset.geturls?wnid=n09618957'\n",
    "    \n",
    "    # webcame images from laptop\n",
    "    images_link = 'https://u2608706.dl.dropboxusercontent.com/u/2608706/links'\n",
    "    \n",
    "    req = urllib2.Request(images_link)\n",
    "    image_urls = urllib2.urlopen(req).read()\n",
    "    \n",
    "    if not os.path.exists('face-recognition-biometric-sys'):\n",
    "        os.makedirs('face-recognition-biometric-sys')\n",
    "        \n",
    "    img_num = 1\n",
    "    \n",
    "    for i in image_urls.split('\\n'):\n",
    "        try:\n",
    "            print(i)\n",
    "            # unknown faces from image-net\n",
    "            #urllib.urlretrieve(i, 'face-recognition-biometric-sys/unknown.' + str(img_num) + '.jpg')\n",
    "            \n",
    "            # webcame images from laptop\n",
    "            urllib.urlretrieve(i, 'face-recognition-biometric-sys/anders.' + str(img_num) + '.jpg')\n",
    "            \n",
    "            img_num += 1\n",
    "            \n",
    "        except Exception as e:\n",
    "            print(str(e))"
   ]
  },
  {
   "cell_type": "code",
   "execution_count": null,
   "metadata": {
    "collapsed": true
   },
   "outputs": [],
   "source": [
    "def clean_up_corrupted():\n",
    "    for file_type in ['face-recognition-biometric-sys']:\n",
    "        for img in os.listdir(file_type):\n",
    "            for corrupted in os.listdir('corrupted'):\n",
    "                try:\n",
    "                    current_image_path = str(file_type)+'/'+str(img)\n",
    "                    corrupted = cv2.imread('corrupted/'+str(corrupted))\n",
    "                    test_img = cv2.imread(current_img_path)\n",
    "                    \n",
    "                    if corrupted.shape == test_img.shape and not(np.bitwise_xor(corrupted, test_img).any()):\n",
    "                        print('deleting corrupted img')\n",
    "                        print(current_image_path)\n",
    "                        os.remove(current_image_path)\n",
    "                        \n",
    "                except Exception as e:\n",
    "                    print(str(e))"
   ]
  },
  {
   "cell_type": "code",
   "execution_count": 11,
   "metadata": {
    "collapsed": false
   },
   "outputs": [
    {
     "name": "stdout",
     "output_type": "stream",
     "text": [
      "https://dl.dropboxusercontent.com/u/2608706/traning_images/Fotografi%20den%2010-10-14%20kl.%2018.51.jpg\n",
      "https://dl.dropboxusercontent.com/u/2608706/traning_images/Fotografi%20den%2016-06-2017%20kl.%2013.11.jpg\n",
      "https://dl.dropboxusercontent.com/u/2608706/traning_images/Fotografi%20den%2016-06-2017%20kl.%2013.12%20%232.jpg\n",
      "https://dl.dropboxusercontent.com/u/2608706/traning_images/Fotografi%20den%2016-06-2017%20kl.%2013.12%20%232.jpg\n",
      "https://dl.dropboxusercontent.com/u/2608706/traning_images/Fotografi%20den%2016-06-2017%20kl.%2013.13%20%232.jpg\n",
      "https://dl.dropboxusercontent.com/u/2608706/traning_images/Fotografi%20den%2016-06-2017%20kl.%2013.13%20%233.jpg\n",
      "https://dl.dropboxusercontent.com/u/2608706/traning_images/Fotografi%20den%2016-06-2017%20kl.%2013.13%20%234.jpg\n",
      "https://dl.dropboxusercontent.com/u/2608706/traning_images/Fotografi%20den%2016-06-2017%20kl.%2013.13%20%235.jpg\n",
      "https://dl.dropboxusercontent.com/u/2608706/traning_images/Fotografi%20den%2016-06-2017%20kl.%2013.13%20%236.jpg\n",
      "https://u2608706.dl.dropboxusercontent.com/u/2608706/traning_images/Fotografi%20den%2016-06-2017%20kl.%2013.13%20%237.jpg\n",
      "https://u2608706.dl.dropboxusercontent.com/u/2608706/traning_images/Fotografi%20den%2016-06-2017%20kl.%2013.13.jpg\n",
      "https://u2608706.dl.dropboxusercontent.com/u/2608706/traning_images/Fotografi%20den%2016-06-2017%20kl.%2013.14%20%232.jpg\n",
      "https://u2608706.dl.dropboxusercontent.com/u/2608706/traning_images/Fotografi%20den%2016-06-2017%20kl.%2013.14%20%233.jpg\n",
      "https://u2608706.dl.dropboxusercontent.com/u/2608706/traning_images/Fotografi%20den%2016-06-2017%20kl.%2013.14%20%234.jpg\n",
      "https://u2608706.dl.dropboxusercontent.com/u/2608706/traning_images/Fotografi%20den%2016-06-2017%20kl.%2013.14%20%235.jpg\n",
      "https://u2608706.dl.dropboxusercontent.com/u/2608706/traning_images/Fotografi%20den%2016-06-2017%20kl.%2013.14%20%236.jpg\n",
      "https://u2608706.dl.dropboxusercontent.com/u/2608706/traning_images/Fotografi%20den%2016-06-2017%20kl.%2013.14.jpg\n",
      "https://u2608706.dl.dropboxusercontent.com/u/2608706/traning_images/Fotografi%20den%2016-06-2017%20kl.%2013.15%20%232.jpg\n",
      "https://u2608706.dl.dropboxusercontent.com/u/2608706/traning_images/Fotografi%20den%2016-06-2017%20kl.%2013.15%20%233.jpg\n",
      "https://u2608706.dl.dropboxusercontent.com/u/2608706/traning_images/Fotografi%20den%2016-06-2017%20kl.%2013.15%20%234.jpg\n",
      "https://u2608706.dl.dropboxusercontent.com/u/2608706/traning_images/Fotografi%20den%2016-06-2017%20kl.%2013.15.jpg\n",
      "https://u2608706.dl.dropboxusercontent.com/u/2608706/traning_images/Fotografi%20den%2025-08-2016%20kl.%2022.28%20%232.jpg\n",
      "https://u2608706.dl.dropboxusercontent.com/u/2608706/traning_images/Fotografi%20den%2025-08-2016%20kl.%2022.28.jpg\n",
      "\n",
      "[Errno 2] No such file or directory: ''\n"
     ]
    }
   ],
   "source": [
    "# run the script\n",
    "store_raw_images()\n",
    "clean_up_corrupted()"
   ]
  }
 ],
 "metadata": {
  "kernelspec": {
   "display_name": "Python 2",
   "language": "python",
   "name": "python2"
  },
  "language_info": {
   "codemirror_mode": {
    "name": "ipython",
    "version": 2
   },
   "file_extension": ".py",
   "mimetype": "text/x-python",
   "name": "python",
   "nbconvert_exporter": "python",
   "pygments_lexer": "ipython2",
   "version": "2.7.12"
  }
 },
 "nbformat": 4,
 "nbformat_minor": 2
}
