{
 "cells": [
  {
   "cell_type": "code",
   "execution_count": 13,
   "metadata": {
    "collapsed": false,
    "deletable": true,
    "editable": true
   },
   "outputs": [],
   "source": [
    "#!/usr/bin/env python\n",
    "# -*- coding: utf-8 -*-\n",
    "import dropbox\n",
    "\n",
    "class TransferData:\n",
    "    def __init__(self, access_token):\n",
    "        self.access_token = access_token\n",
    "\n",
    "    def upload_file(self, file_from, file_to):\n",
    "        \"\"\"upload a file to Dropbox using API v2\n",
    "        \"\"\"\n",
    "        dbx = dropbox.Dropbox(self.access_token)\n",
    "        \n",
    "        with open(file_from, 'rb') as f:\n",
    "            dbx.files_upload(f.read(), file_to)\n",
    "            \n",
    "def main():\n",
    "    access_token = 'access_token'\n",
    "    transferData = TransferData(access_token)\n",
    "\n",
    "    file_from = '/notebooks/face-recognition-biometric-sys/log/facerec-bio-6conv-testNN4.model/events.out.tfevents.1498237740.984f69769ba6'\n",
    "    file_to = '/02238-Biometric-Systems/files-from-docker-env/facerec-bio-6conv-testNN4.model/events.out.tfevents.1498237740.984f69769ba6'\n",
    "    \n",
    "    # API v2\n",
    "    transferData.upload_file(file_from, file_to)\n",
    "\n",
    "#if __name__ == '__main__':\n",
    "#    main()"
   ]
  },
  {
   "cell_type": "code",
   "execution_count": 14,
   "metadata": {
    "collapsed": false,
    "deletable": true,
    "editable": true
   },
   "outputs": [],
   "source": [
    "main()"
   ]
  },
  {
   "cell_type": "code",
   "execution_count": null,
   "metadata": {
    "collapsed": true,
    "deletable": true,
    "editable": true
   },
   "outputs": [],
   "source": []
  },
  {
   "cell_type": "code",
   "execution_count": null,
   "metadata": {
    "collapsed": true,
    "deletable": true,
    "editable": true
   },
   "outputs": [],
   "source": []
  }
 ],
 "metadata": {
  "kernelspec": {
   "display_name": "Python 2",
   "language": "python",
   "name": "python2"
  },
  "language_info": {
   "codemirror_mode": {
    "name": "ipython",
    "version": 2
   },
   "file_extension": ".py",
   "mimetype": "text/x-python",
   "name": "python",
   "nbconvert_exporter": "python",
   "pygments_lexer": "ipython2",
   "version": "2.7.12"
  }
 },
 "nbformat": 4,
 "nbformat_minor": 2
}
