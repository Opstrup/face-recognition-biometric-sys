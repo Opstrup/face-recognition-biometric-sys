{
 "cells": [
  {
   "cell_type": "code",
   "execution_count": 1,
   "metadata": {
    "collapsed": true,
    "deletable": true,
    "editable": true
   },
   "outputs": [],
   "source": [
    "# for python3\n",
    "#import urllib.request\n",
    "import urllib2\n",
    "import urllib\n",
    "import os\n",
    "import numpy as np\n",
    "import cv2"
   ]
  },
  {
   "cell_type": "code",
   "execution_count": 2,
   "metadata": {
    "collapsed": true,
    "deletable": true,
    "editable": true
   },
   "outputs": [],
   "source": [
    "# pull traning data from web\n",
    "def store_raw_images():\n",
    "    # unknown faces from image-net\n",
    "    # images_link = 'http://www.image-net.org/api/text/imagenet.synset.geturls?wnid=n09638875'\n",
    "    # images_link = 'http://www.image-net.org/api/text/imagenet.synset.geturls?wnid=n09618957'\n",
    "    \n",
    "    # webcame images from laptop\n",
    "    images_link = 'https://u2608706.dl.dropboxusercontent.com/u/2608706/links'\n",
    "    \n",
    "    # python3\n",
    "    #image_urls = urllib.request.urlopen(images_link).read().decode()\n",
    "    \n",
    "    req = urllib2.Request(images_link)\n",
    "    image_urls = urllib2.urlopen(req).read()\n",
    "    \n",
    "    if not os.path.exists('training-imgs'):\n",
    "        os.makedirs('training-imgs')\n",
    "        \n",
    "    img_num = 1\n",
    "    \n",
    "    print('length of links file: ', len(image_urls))\n",
    "    \n",
    "    for i in image_urls.split('\\n'):\n",
    "        try:\n",
    "            img_name = i.split('/')[-1]\n",
    "            print(i)\n",
    "            print(img_name)\n",
    "            # unknown faces from image-net\n",
    "            #urllib.request.urlretrieve(i, 'face-recognition-biometric-sys/unknown.' + str(img_num) + '.jpg')\n",
    "            #urllib.urlretrieve(i, 'face-recognition-biometric-sys/unknown.' + str(img_num) + '.jpg')\n",
    "            \n",
    "            # webcame images from laptop\n",
    "            urllib.urlretrieve(i, 'training-imgs/' + img_name)\n",
    "            \n",
    "            img_num += 1\n",
    "            \n",
    "        except Exception as e:\n",
    "            print(str(e))"
   ]
  },
  {
   "cell_type": "code",
   "execution_count": 3,
   "metadata": {
    "collapsed": true,
    "deletable": true,
    "editable": true
   },
   "outputs": [],
   "source": [
    "def clean_up_corrupted():\n",
    "    for file_type in ['training-imgs']:\n",
    "        for img in os.listdir(file_type):\n",
    "            for corrupted in os.listdir('corrupted'):\n",
    "                try:\n",
    "                    current_image_path = str(file_type)+'/'+str(img)\n",
    "                    corrupted = cv2.imread('corrupted/'+str(corrupted))\n",
    "                    test_img = cv2.imread(current_image_path)\n",
    "                    \n",
    "                    if corrupted.shape == test_img.shape and not(np.bitwise_xor(corrupted, test_img).any()):\n",
    "                        print('deleting corrupted img')\n",
    "                        print(current_image_path)\n",
    "                        os.remove(current_image_path)\n",
    "                        \n",
    "                except Exception as e:\n",
    "                    print(str(e))"
   ]
  },
  {
   "cell_type": "code",
   "execution_count": 4,
   "metadata": {
    "collapsed": false
   },
   "outputs": [
    {
     "ename": "SyntaxError",
     "evalue": "unexpected EOF while parsing (<ipython-input-4-7f7cd65bf7c9>, line 1)",
     "output_type": "error",
     "traceback": [
      "\u001b[0;36m  File \u001b[0;32m\"<ipython-input-4-7f7cd65bf7c9>\"\u001b[0;36m, line \u001b[0;32m1\u001b[0m\n\u001b[0;31m    def rotate_img():\u001b[0m\n\u001b[0m                     ^\u001b[0m\n\u001b[0;31mSyntaxError\u001b[0m\u001b[0;31m:\u001b[0m unexpected EOF while parsing\n"
     ]
    }
   ],
   "source": [
    "#def rotate_img():"
   ]
  },
  {
   "cell_type": "code",
   "execution_count": null,
   "metadata": {
    "collapsed": false,
    "deletable": true,
    "editable": true
   },
   "outputs": [],
   "source": [
    "# run the script\n",
    "store_raw_images()\n",
    "#clean_up_corrupted()"
   ]
  },
  {
   "cell_type": "code",
   "execution_count": null,
   "metadata": {
    "collapsed": true,
    "deletable": true,
    "editable": true
   },
   "outputs": [],
   "source": []
  },
  {
   "cell_type": "code",
   "execution_count": null,
   "metadata": {
    "collapsed": true,
    "deletable": true,
    "editable": true
   },
   "outputs": [],
   "source": []
  }
 ],
 "metadata": {
  "kernelspec": {
   "display_name": "Python 2",
   "language": "python",
   "name": "python2"
  },
  "language_info": {
   "codemirror_mode": {
    "name": "ipython",
    "version": 2
   },
   "file_extension": ".py",
   "mimetype": "text/x-python",
   "name": "python",
   "nbconvert_exporter": "python",
   "pygments_lexer": "ipython2",
   "version": "2.7.12"
  }
 },
 "nbformat": 4,
 "nbformat_minor": 2
}
