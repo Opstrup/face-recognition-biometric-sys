{
 "cells": [
  {
   "cell_type": "code",
   "execution_count": 19,
   "metadata": {
    "collapsed": true,
    "deletable": true,
    "editable": true
   },
   "outputs": [],
   "source": [
    "import cv2\n",
    "import numpy as np\n",
    "import os\n",
    "from random import shuffle\n",
    "from tqdm import tqdm"
   ]
  },
  {
   "cell_type": "code",
   "execution_count": 20,
   "metadata": {
    "collapsed": true,
    "deletable": true,
    "editable": true
   },
   "outputs": [],
   "source": [
    "TRAIN_DIR = '/notebooks/face-recognition-biometric-sys'\n",
    "TEST_DIR = '/notebooks/catsvsdogsdata/newdata/test'\n",
    "IMG_SIZE = 50 #50x50 px\n",
    "LEARNING_RATE = 1e-3\n",
    "\n",
    "MODEL_NAME = 'facerec-{}-{}.model'.format(LEARNING_RATE, 'bio-2conv-light')"
   ]
  },
  {
   "cell_type": "code",
   "execution_count": 21,
   "metadata": {
    "collapsed": true,
    "deletable": true,
    "editable": true
   },
   "outputs": [],
   "source": [
    "# defining labels for traning data\n",
    "# using hot one technique\n",
    "# [1,0,0,0] = anders from front in img & [0,1,0,0] = anders with right eye cloed in img and so on..\n",
    "def label_img(img):\n",
    "    word_label = img.split('.')[-3]\n",
    "    if word_label == 'anders-front': return [1,0,0,0]\n",
    "    elif worl_label == 'anders-right-eye-closed': return [0,1,0,0]\n",
    "    elif worl_label == 'anders-left-eye-closed': return [0,0,1,0]\n",
    "    elif word_label == 'anders-open-mouth': return [0,0,0,1]\n",
    "    "
   ]
  },
  {
   "cell_type": "code",
   "execution_count": 42,
   "metadata": {
    "collapsed": false,
    "deletable": true,
    "editable": true
   },
   "outputs": [],
   "source": [
    "# convert feature to 2d greyscale data\n",
    "# creates the traning data with labels -> \n",
    "# anders-front = [[[greyscale img data], [1,0,0,0]]], \n",
    "# anders-right-eye-closed = [[[greyscale img data], [0,1,0,0]]]\n",
    "\n",
    "# whole traning data example (with first front and second right-eye): \n",
    "# [[[greyscale img data], [1,0,0,0]], [[greyscale img data], [0,1,0,0]]]\n",
    "\n",
    "# images gets resized to 50x50px\n",
    "# the traning data gets shuffled to make sure that they are all random and we dont have any sitiuations where all the\n",
    "# images come in order.\n",
    "# the whole data gets saved out to 'bio_traning_data.npy' file\n",
    "def create_train_data():\n",
    "    training_data = []\n",
    "    for img in tqdm(os.listdir(TRAIN_DIR)):\n",
    "        label = label_img(img)\n",
    "        path = os.path.join(TRAIN_DIR,img)\n",
    "        raw_img = cv2.imread(path, cv2.IMREAD_GRAYSCALE)\n",
    "        if raw_img is not None:\n",
    "            img = cv2.resize(raw_img, (IMG_SIZE, IMG_SIZE))\n",
    "            training_data.append([np.array(img), np.array(label)])\n",
    "        \n",
    "    shuffle(training_data)\n",
    "    np.save('bio_traning_data.npy', training_data)\n",
    "    return training_data"
   ]
  },
  {
   "cell_type": "code",
   "execution_count": 43,
   "metadata": {
    "collapsed": false,
    "deletable": true,
    "editable": true
   },
   "outputs": [],
   "source": [
    "def process_test_data():\n",
    "    testing_data = []\n",
    "    for img in tqdm(os.listdir(TEST_DIR)):\n",
    "        path = os.path.join(TEST_DIR,img)\n",
    "        img_num = img.split('.')[0]\n",
    "        img = cv2.resize(cv2.imread(path, cv2.IMREAD_GRAYSCALE), (IMG_SIZE, IMG_SIZE))\n",
    "        testing_data.append([np.array(img), img_num])\n",
    "        \n",
    "    np.save('bio_test_data.npy', testing_data)\n",
    "    return testing_data"
   ]
  },
  {
   "cell_type": "code",
   "execution_count": 44,
   "metadata": {
    "collapsed": false,
    "deletable": true,
    "editable": true
   },
   "outputs": [
    {
     "name": "stderr",
     "output_type": "stream",
     "text": [
      "100%|██████████| 738/738 [00:01<00:00, 548.84it/s]\n"
     ]
    }
   ],
   "source": [
    "train_data = create_train_data()\n",
    "\n",
    "# if the data already is processed simply load it\n",
    "# train_data = np.load('train_data.npy')"
   ]
  },
  {
   "cell_type": "code",
   "execution_count": 45,
   "metadata": {
    "collapsed": false,
    "deletable": true,
    "editable": true
   },
   "outputs": [],
   "source": [
    "# Setting up the CNN with tflearn\n",
    "# using two conv. layers with max pooling\n",
    "# 3 layers in total\n",
    "# a droprate of 80%\n",
    "# activation function is set to relu\n",
    "# final activation function is softmax since we want multi-classification\n",
    "# optimize algorithm is adam and loss algorithm is categorical crossentropy\n",
    "# both the optimizer and loss functions are used for back-prop\n",
    "import tflearn\n",
    "from tflearn.layers.conv import conv_2d, max_pool_2d\n",
    "from tflearn.layers.core import input_data, dropout, fully_connected\n",
    "from tflearn.layers.estimator import regression\n",
    "\n",
    "convnet = input_data(shape=[None, IMG_SIZE, IMG_SIZE, 1], name='input')\n",
    "\n",
    "convnet = conv_2d(convnet, 32, 2, activation='relu')\n",
    "convnet = max_pool_2d(convnet, 2)\n",
    "\n",
    "convnet = conv_2d(convnet, 64, 2, activation='relu')\n",
    "convnet = max_pool_2d(convnet, 2)\n",
    "\n",
    "# Adding more layers for test.\n",
    "\n",
    "#convnet = conv_2d(convnet, 32, 2, activation='relu')\n",
    "#convnet = max_pool_2d(convnet, 2)\n",
    "\n",
    "#convnet = conv_2d(convnet, 64, 2, activation='relu')\n",
    "#convnet = max_pool_2d(convnet, 2)\n",
    "\n",
    "#convnet = conv_2d(convnet, 32, 2, activation='relu')\n",
    "#convnet = max_pool_2d(convnet, 2)\n",
    "\n",
    "#convnet = conv_2d(convnet, 64, 2, activation='relu')\n",
    "#convnet = max_pool_2d(convnet, 2)\n",
    "\n",
    "# These layers above is just for testing.\n",
    "\n",
    "convnet = fully_connected(convnet, 1024, activation='relu')\n",
    "convnet = dropout(convnet, 0.8)\n",
    "\n",
    "# fully connected layer with 4 outputs/classes, (front, right-eye, left-eye, open-mouth)\n",
    "convnet = fully_connected(convnet, 4, activation='softmax')\n",
    "convnet = regression(convnet, optimizer='adam', learning_rate=LEARNING_RATE, loss='categorical_crossentropy', name='targets')\n",
    "\n",
    "model = tflearn.DNN(convnet, tensorboard_dir='log')"
   ]
  },
  {
   "cell_type": "code",
   "execution_count": 46,
   "metadata": {
    "collapsed": true,
    "deletable": true,
    "editable": true
   },
   "outputs": [],
   "source": [
    "# Check if we already have trained on a model, if so load the weights and continue\n",
    "if os.path.exists('{}.meta'.format(MODEL_NAME)):\n",
    "    model.load(MODEL_NAME)\n",
    "    print('Model loaded!')"
   ]
  },
  {
   "cell_type": "code",
   "execution_count": 47,
   "metadata": {
    "collapsed": true,
    "deletable": true,
    "editable": true
   },
   "outputs": [],
   "source": [
    "# Seperating data to traning data and test data\n",
    "#train = train_data[:-500]\n",
    "#test = train_data[-500:]\n",
    "\n",
    "# changed split for smaller data size\n",
    "#train = train_data[:-369]\n",
    "#test = train_data[-369:]\n",
    "\n",
    "# Seperating data to traning data and test data (80 img dataset)\n",
    "train = train_data[:-40]\n",
    "test = train_data[-40:]"
   ]
  },
  {
   "cell_type": "code",
   "execution_count": 48,
   "metadata": {
    "collapsed": false,
    "deletable": true,
    "editable": true
   },
   "outputs": [],
   "source": [
    "# traning data\n",
    "# feature sets\n",
    "X = np.array([i[0] for i in train]).reshape(-1, IMG_SIZE, IMG_SIZE, 1)\n",
    "# labels\n",
    "Y = [i[1] for i in train]\n",
    "\n",
    "# test data (for accuracy)\n",
    "# feature sets\n",
    "test_x = np.array([i[0] for i in test]).reshape(-1, IMG_SIZE, IMG_SIZE, 1)\n",
    "# labels\n",
    "test_y = [i[1] for i in test]"
   ]
  },
  {
   "cell_type": "code",
   "execution_count": 49,
   "metadata": {
    "collapsed": false,
    "deletable": true,
    "editable": true,
    "scrolled": true
   },
   "outputs": [
    {
     "name": "stdout",
     "output_type": "stream",
     "text": [
      "Training Step: 24  | total loss: \u001b[1m\u001b[32m0.26819\u001b[0m\u001b[0m | time: 2.123s\n",
      "| Adam | epoch: 005 | loss: 0.26819 - acc: 0.9884 -- iter: 256/283\n",
      "Training Step: 25  | total loss: \u001b[1m\u001b[32m0.19504\u001b[0m\u001b[0m | time: 3.745s\n",
      "| Adam | epoch: 005 | loss: 0.19504 - acc: 0.9915 | val_loss: 0.99841 - val_acc: 0.9566 -- iter: 283/283\n",
      "--\n"
     ]
    }
   ],
   "source": [
    "# Traning the conv net - 5 epoch = 5 traning cycles \n",
    "model.fit({'input': X}, {'targets': Y}, n_epoch=5, validation_set=({'input': test_x}, {'targets': test_y}), \n",
    "    snapshot_step=500, show_metric=True, run_id=MODEL_NAME)"
   ]
  },
  {
   "cell_type": "code",
   "execution_count": 50,
   "metadata": {
    "collapsed": false,
    "deletable": true,
    "editable": true
   },
   "outputs": [],
   "source": [
    "# command for running tensorboard\n",
    "# tensorboard --logdir='log'"
   ]
  },
  {
   "cell_type": "code",
   "execution_count": null,
   "metadata": {
    "collapsed": true,
    "deletable": true,
    "editable": true
   },
   "outputs": [],
   "source": [
    "model.save(MODEL_NAME)"
   ]
  },
  {
   "cell_type": "code",
   "execution_count": null,
   "metadata": {
    "collapsed": true,
    "deletable": true,
    "editable": true
   },
   "outputs": [],
   "source": [
    "import matplotlib.pyplot as plt\n",
    "\n",
    "# if we dont have this file yet\n",
    "test_data = process_test_data()\n",
    "# if we do\n",
    "#test_data = np.load('bio_test_data.npy')\n",
    "\n",
    "fig = plt.figure()\n",
    "\n",
    "# iterating over the first 12 elements in test_data\n",
    "for num, data in enumerate(test_data[:12]):\n",
    "    # front: [1,0,0,0]\n",
    "    # right-eye: [0,1,0,0]\n",
    "    # left-eye: [0,0,1,0]\n",
    "    # mouth: [0,0,0,1]\n",
    "    \n",
    "    img_num = data[1]\n",
    "    img_data = data[0]\n",
    "    \n",
    "    y = fig.add_subplot(3,4,num+1)\n",
    "    orig = img_data\n",
    "    data = img_data.reshape(IMG_SIZE,IMG_SIZE,1)\n",
    "    \n",
    "    model_out = model.predict([data])[0]\n",
    "    \n",
    "    if np.argmax(model_out) == 1: str_label='Unknown'\n",
    "    else: str_label='Anders'\n",
    "        \n",
    "    y.imshow(orig, cmap='gray')\n",
    "    plt.title(str_label)\n",
    "    y.axes.get_xaxis().set_visible(False)\n",
    "    y.axes.get_yaxis().set_visible(False)\n",
    "    \n",
    "plt.show()"
   ]
  },
  {
   "cell_type": "code",
   "execution_count": null,
   "metadata": {
    "collapsed": true,
    "deletable": true,
    "editable": true
   },
   "outputs": [],
   "source": []
  }
 ],
 "metadata": {
  "kernelspec": {
   "display_name": "Python 2",
   "language": "python",
   "name": "python2"
  },
  "language_info": {
   "codemirror_mode": {
    "name": "ipython",
    "version": 2
   },
   "file_extension": ".py",
   "mimetype": "text/x-python",
   "name": "python",
   "nbconvert_exporter": "python",
   "pygments_lexer": "ipython2",
   "version": "2.7.12"
  }
 },
 "nbformat": 4,
 "nbformat_minor": 2
}
